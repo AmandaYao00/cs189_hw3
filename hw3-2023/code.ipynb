{
 "cells": [
  {
   "cell_type": "code",
   "execution_count": 6,
   "id": "f9429f0b",
   "metadata": {},
   "outputs": [],
   "source": [
    "from scipy.stats import multivariate_normal\n",
    "\n",
    "# Plot isocontours of normally distributed functions.\n",
    "\n",
    "def plot_normal(mean, cov):\n",
    "   "
   ]
  },
  {
   "cell_type": "code",
   "execution_count": 7,
   "id": "81f28278",
   "metadata": {},
   "outputs": [
    {
     "name": "stdout",
     "output_type": "stream",
     "text": [
      "1 1\n",
      "[1, 0] [0, 2]\n"
     ]
    }
   ],
   "source": [
    "#3.1\n",
    "plot_normal([1,1], [[1,0],[0,2]])"
   ]
  },
  {
   "cell_type": "code",
   "execution_count": 8,
   "id": "ea20247c",
   "metadata": {},
   "outputs": [
    {
     "name": "stdout",
     "output_type": "stream",
     "text": [
      "-1 2\n",
      "[2, 1] [1, 4]\n"
     ]
    }
   ],
   "source": [
    "#3.2\n",
    "plot_normal([-1,2],[[2,1],[1,4]])"
   ]
  },
  {
   "cell_type": "code",
   "execution_count": null,
   "id": "2f544b15",
   "metadata": {},
   "outputs": [],
   "source": []
  }
 ],
 "metadata": {
  "kernelspec": {
   "display_name": "Python 3 (ipykernel)",
   "language": "python",
   "name": "python3"
  },
  "language_info": {
   "codemirror_mode": {
    "name": "ipython",
    "version": 3
   },
   "file_extension": ".py",
   "mimetype": "text/x-python",
   "name": "python",
   "nbconvert_exporter": "python",
   "pygments_lexer": "ipython3",
   "version": "3.9.13"
  }
 },
 "nbformat": 4,
 "nbformat_minor": 5
}
